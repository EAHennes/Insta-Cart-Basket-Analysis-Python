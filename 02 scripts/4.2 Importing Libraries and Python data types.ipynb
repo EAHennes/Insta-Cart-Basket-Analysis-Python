{
 "cells": [
  {
   "cell_type": "markdown",
   "id": "cf5cb275",
   "metadata": {},
   "source": [
    "#01. Importing libraries"
   ]
  },
  {
   "cell_type": "code",
   "execution_count": 1,
   "id": "515135e0",
   "metadata": {},
   "outputs": [],
   "source": [
    "# import libraries\n",
    "import pandas as pd\n",
    "import numpy as np\n",
    "import os"
   ]
  },
  {
   "cell_type": "markdown",
   "id": "52a5e4cb",
   "metadata": {},
   "source": [
    "#integers"
   ]
  },
  {
   "cell_type": "code",
   "execution_count": 28,
   "id": "0a5a040a",
   "metadata": {},
   "outputs": [],
   "source": [
    "x = 50"
   ]
  },
  {
   "cell_type": "code",
   "execution_count": 29,
   "id": "a0af4d86",
   "metadata": {},
   "outputs": [],
   "source": [
    "y = 2"
   ]
  },
  {
   "cell_type": "code",
   "execution_count": 30,
   "id": "f9822a89",
   "metadata": {},
   "outputs": [
    {
     "data": {
      "text/plain": [
       "100"
      ]
     },
     "execution_count": 30,
     "metadata": {},
     "output_type": "execute_result"
    }
   ],
   "source": [
    "x * y"
   ]
  },
  {
   "cell_type": "code",
   "execution_count": 31,
   "id": "13fae41e",
   "metadata": {},
   "outputs": [],
   "source": [
    "x = 25"
   ]
  },
  {
   "cell_type": "code",
   "execution_count": 32,
   "id": "4b72c8f1",
   "metadata": {},
   "outputs": [],
   "source": [
    "y = 4"
   ]
  },
  {
   "cell_type": "code",
   "execution_count": 33,
   "id": "bf9599cb",
   "metadata": {},
   "outputs": [
    {
     "data": {
      "text/plain": [
       "100"
      ]
     },
     "execution_count": 33,
     "metadata": {},
     "output_type": "execute_result"
    }
   ],
   "source": [
    "x * y"
   ]
  },
  {
   "cell_type": "code",
   "execution_count": 34,
   "id": "1cdced9f",
   "metadata": {},
   "outputs": [],
   "source": [
    "x = 1000"
   ]
  },
  {
   "cell_type": "code",
   "execution_count": 36,
   "id": "1f796982",
   "metadata": {},
   "outputs": [],
   "source": [
    "y = 10"
   ]
  },
  {
   "cell_type": "code",
   "execution_count": 38,
   "id": "af836d57",
   "metadata": {},
   "outputs": [
    {
     "data": {
      "text/plain": [
       "100.0"
      ]
     },
     "execution_count": 38,
     "metadata": {},
     "output_type": "execute_result"
    }
   ],
   "source": [
    "x/y"
   ]
  },
  {
   "cell_type": "code",
   "execution_count": 39,
   "id": "3600c591",
   "metadata": {},
   "outputs": [],
   "source": [
    "y = 15.7"
   ]
  },
  {
   "cell_type": "code",
   "execution_count": 40,
   "id": "238a3af2",
   "metadata": {},
   "outputs": [],
   "source": [
    "x  = 100.25"
   ]
  },
  {
   "cell_type": "code",
   "execution_count": 41,
   "id": "53f43dd3",
   "metadata": {},
   "outputs": [
    {
     "data": {
      "text/plain": [
       "6.385350318471338"
      ]
     },
     "execution_count": 41,
     "metadata": {},
     "output_type": "execute_result"
    }
   ],
   "source": [
    "x/y"
   ]
  },
  {
   "cell_type": "code",
   "execution_count": 42,
   "id": "9b99dab1",
   "metadata": {},
   "outputs": [],
   "source": [
    "a = 'Or'"
   ]
  },
  {
   "cell_type": "code",
   "execution_count": 43,
   "id": "269b8f34",
   "metadata": {},
   "outputs": [],
   "source": [
    "b = 'ga'"
   ]
  },
  {
   "cell_type": "code",
   "execution_count": 44,
   "id": "aaca1530",
   "metadata": {},
   "outputs": [],
   "source": [
    "c = 'nic'"
   ]
  },
  {
   "cell_type": "code",
   "execution_count": 45,
   "id": "3b0a2637",
   "metadata": {},
   "outputs": [
    {
     "data": {
      "text/plain": [
       "'Organic'"
      ]
     },
     "execution_count": 45,
     "metadata": {},
     "output_type": "execute_result"
    }
   ],
   "source": [
    "a+b+c"
   ]
  },
  {
   "cell_type": "code",
   "execution_count": 46,
   "id": "da999342",
   "metadata": {},
   "outputs": [],
   "source": [
    "a = 'Do '"
   ]
  },
  {
   "cell_type": "code",
   "execution_count": 55,
   "id": "9ff0cfb1",
   "metadata": {},
   "outputs": [],
   "source": [
    "x = 'you '"
   ]
  },
  {
   "cell_type": "code",
   "execution_count": 47,
   "id": "ab817354",
   "metadata": {},
   "outputs": [],
   "source": [
    "b = 'bite '"
   ]
  },
  {
   "cell_type": "code",
   "execution_count": 48,
   "id": "9206773c",
   "metadata": {},
   "outputs": [],
   "source": [
    "c = 'your '"
   ]
  },
  {
   "cell_type": "code",
   "execution_count": 49,
   "id": "5646ffb2",
   "metadata": {},
   "outputs": [],
   "source": [
    "d = 'thumb '"
   ]
  },
  {
   "cell_type": "code",
   "execution_count": 50,
   "id": "a2efe397",
   "metadata": {},
   "outputs": [],
   "source": [
    "e = 'at '"
   ]
  },
  {
   "cell_type": "code",
   "execution_count": 51,
   "id": "0c0294bb",
   "metadata": {},
   "outputs": [],
   "source": [
    "f = 'me, '"
   ]
  },
  {
   "cell_type": "code",
   "execution_count": 52,
   "id": "87e2d8a2",
   "metadata": {},
   "outputs": [],
   "source": [
    "g = 'sir?'"
   ]
  },
  {
   "cell_type": "code",
   "execution_count": 56,
   "id": "dae925ec",
   "metadata": {},
   "outputs": [
    {
     "data": {
      "text/plain": [
       "'Do you bite your thumb at me, sir?'"
      ]
     },
     "execution_count": 56,
     "metadata": {},
     "output_type": "execute_result"
    }
   ],
   "source": [
    "a+x+b+c+d+e+f+g"
   ]
  },
  {
   "cell_type": "code",
   "execution_count": 57,
   "id": "f14bbbb1",
   "metadata": {},
   "outputs": [],
   "source": [
    "s = 'All work and no play makes Jack a dull boy '"
   ]
  },
  {
   "cell_type": "code",
   "execution_count": 58,
   "id": "492f285d",
   "metadata": {},
   "outputs": [
    {
     "data": {
      "text/plain": [
       "'All work and no play makes Jack a dull boy All work and no play makes Jack a dull boy All work and no play makes Jack a dull boy All work and no play makes Jack a dull boy All work and no play makes Jack a dull boy All work and no play makes Jack a dull boy All work and no play makes Jack a dull boy All work and no play makes Jack a dull boy All work and no play makes Jack a dull boy All work and no play makes Jack a dull boy All work and no play makes Jack a dull boy All work and no play makes Jack a dull boy All work and no play makes Jack a dull boy All work and no play makes Jack a dull boy All work and no play makes Jack a dull boy All work and no play makes Jack a dull boy All work and no play makes Jack a dull boy All work and no play makes Jack a dull boy All work and no play makes Jack a dull boy All work and no play makes Jack a dull boy All work and no play makes Jack a dull boy All work and no play makes Jack a dull boy All work and no play makes Jack a dull boy All work and no play makes Jack a dull boy All work and no play makes Jack a dull boy All work and no play makes Jack a dull boy All work and no play makes Jack a dull boy All work and no play makes Jack a dull boy All work and no play makes Jack a dull boy All work and no play makes Jack a dull boy All work and no play makes Jack a dull boy All work and no play makes Jack a dull boy All work and no play makes Jack a dull boy All work and no play makes Jack a dull boy All work and no play makes Jack a dull boy All work and no play makes Jack a dull boy All work and no play makes Jack a dull boy All work and no play makes Jack a dull boy All work and no play makes Jack a dull boy All work and no play makes Jack a dull boy All work and no play makes Jack a dull boy All work and no play makes Jack a dull boy All work and no play makes Jack a dull boy All work and no play makes Jack a dull boy All work and no play makes Jack a dull boy All work and no play makes Jack a dull boy All work and no play makes Jack a dull boy All work and no play makes Jack a dull boy All work and no play makes Jack a dull boy All work and no play makes Jack a dull boy All work and no play makes Jack a dull boy All work and no play makes Jack a dull boy All work and no play makes Jack a dull boy All work and no play makes Jack a dull boy All work and no play makes Jack a dull boy All work and no play makes Jack a dull boy All work and no play makes Jack a dull boy All work and no play makes Jack a dull boy All work and no play makes Jack a dull boy All work and no play makes Jack a dull boy All work and no play makes Jack a dull boy All work and no play makes Jack a dull boy All work and no play makes Jack a dull boy All work and no play makes Jack a dull boy All work and no play makes Jack a dull boy All work and no play makes Jack a dull boy All work and no play makes Jack a dull boy All work and no play makes Jack a dull boy All work and no play makes Jack a dull boy All work and no play makes Jack a dull boy All work and no play makes Jack a dull boy All work and no play makes Jack a dull boy All work and no play makes Jack a dull boy All work and no play makes Jack a dull boy All work and no play makes Jack a dull boy All work and no play makes Jack a dull boy All work and no play makes Jack a dull boy All work and no play makes Jack a dull boy All work and no play makes Jack a dull boy All work and no play makes Jack a dull boy All work and no play makes Jack a dull boy All work and no play makes Jack a dull boy All work and no play makes Jack a dull boy All work and no play makes Jack a dull boy All work and no play makes Jack a dull boy All work and no play makes Jack a dull boy All work and no play makes Jack a dull boy All work and no play makes Jack a dull boy All work and no play makes Jack a dull boy All work and no play makes Jack a dull boy All work and no play makes Jack a dull boy All work and no play makes Jack a dull boy All work and no play makes Jack a dull boy All work and no play makes Jack a dull boy All work and no play makes Jack a dull boy All work and no play makes Jack a dull boy All work and no play makes Jack a dull boy All work and no play makes Jack a dull boy All work and no play makes Jack a dull boy All work and no play makes Jack a dull boy '"
      ]
     },
     "execution_count": 58,
     "metadata": {},
     "output_type": "execute_result"
    }
   ],
   "source": [
    "s * 100"
   ]
  },
  {
   "cell_type": "code",
   "execution_count": null,
   "id": "4e7b741b",
   "metadata": {},
   "outputs": [],
   "source": []
  }
 ],
 "metadata": {
  "kernelspec": {
   "display_name": "Python 3 (ipykernel)",
   "language": "python",
   "name": "python3"
  },
  "language_info": {
   "codemirror_mode": {
    "name": "ipython",
    "version": 3
   },
   "file_extension": ".py",
   "mimetype": "text/x-python",
   "name": "python",
   "nbconvert_exporter": "python",
   "pygments_lexer": "ipython3",
   "version": "3.9.12"
  }
 },
 "nbformat": 4,
 "nbformat_minor": 5
}
