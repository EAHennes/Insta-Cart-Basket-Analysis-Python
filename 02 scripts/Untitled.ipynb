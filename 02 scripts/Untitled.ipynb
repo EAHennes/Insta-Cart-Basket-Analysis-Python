{
 "cells": [
  {
   "cell_type": "code",
   "execution_count": 1,
   "id": "bce3ca5b",
   "metadata": {},
   "outputs": [],
   "source": [
    "import pandas as pd\n",
    "import numpy as np\n",
    "import os\n",
    "import matplotlib.pyplot as plt\n",
    "import seaborn as sns\n",
    "import scipy"
   ]
  },
  {
   "cell_type": "code",
   "execution_count": 2,
   "id": "dfd41a3b",
   "metadata": {},
   "outputs": [],
   "source": [
    "path = r'/Users/ethanahennes/Desktop/instacart basket analysis'"
   ]
  },
  {
   "cell_type": "code",
   "execution_count": 3,
   "id": "a48e7980",
   "metadata": {},
   "outputs": [],
   "source": [
    "df_orders_og = pd.read_csv(os.path.join(path,'02 data','Original Data','4.3_orders_products','orders.csv'), index_col = False)"
   ]
  },
  {
   "cell_type": "code",
   "execution_count": 4,
   "id": "eb5a17a9",
   "metadata": {},
   "outputs": [
    {
     "data": {
      "text/plain": [
       "(3421083, 7)"
      ]
     },
     "execution_count": 4,
     "metadata": {},
     "output_type": "execute_result"
    }
   ],
   "source": [
    "df_orders_og.shape"
   ]
  },
  {
   "cell_type": "code",
   "execution_count": 5,
   "id": "575120fe",
   "metadata": {},
   "outputs": [],
   "source": [
    "df_orders_check = pd.read_csv(os.path.join(path,'02 data','Pepared Data','ords_checked.csv))'), index_col = False)\n",
    "\n",
    "\n"
   ]
  },
  {
   "cell_type": "code",
   "execution_count": 6,
   "id": "c2278081",
   "metadata": {},
   "outputs": [
    {
     "data": {
      "text/plain": [
       "(3421083, 8)"
      ]
     },
     "execution_count": 6,
     "metadata": {},
     "output_type": "execute_result"
    }
   ],
   "source": [
    "df_orders_check.shape"
   ]
  },
  {
   "cell_type": "code",
   "execution_count": 7,
   "id": "4e89bd37",
   "metadata": {},
   "outputs": [],
   "source": [
    "df_orders_prods_prior = pd.read_csv(os.path.join(path,'02 data','Original Data','4.3_orders_products','order_products__prior.csv'), index_col = False)\n",
    "\n"
   ]
  },
  {
   "cell_type": "code",
   "execution_count": 8,
   "id": "556fbce5",
   "metadata": {},
   "outputs": [
    {
     "data": {
      "text/plain": [
       "(32434489, 4)"
      ]
     },
     "execution_count": 8,
     "metadata": {},
     "output_type": "execute_result"
    }
   ],
   "source": [
    "df_orders_prods_prior.shape\n"
   ]
  },
  {
   "cell_type": "code",
   "execution_count": 9,
   "id": "efadf47c",
   "metadata": {},
   "outputs": [],
   "source": [
    "df_orders_check = pd.read_csv(os.path.join(path,'02 data','Pepared Data','orders_wrangled.csv))'), index_col = False)\n",
    "\n",
    "\n",
    "\n"
   ]
  },
  {
   "cell_type": "code",
   "execution_count": 10,
   "id": "c995ce35",
   "metadata": {},
   "outputs": [
    {
     "data": {
      "text/plain": [
       "(3421083, 7)"
      ]
     },
     "execution_count": 10,
     "metadata": {},
     "output_type": "execute_result"
    }
   ],
   "source": [
    "df_orders_check.shape"
   ]
  },
  {
   "cell_type": "code",
   "execution_count": 11,
   "id": "7c64617d",
   "metadata": {},
   "outputs": [],
   "source": [
    "df_products = pd.read_csv(os.path.join(path,'02 data','Original Data','4.3_orders_products','products.csv'), index_col = False)\n",
    "\n"
   ]
  },
  {
   "cell_type": "code",
   "execution_count": 12,
   "id": "93fc2681",
   "metadata": {},
   "outputs": [
    {
     "data": {
      "text/plain": [
       "(49693, 5)"
      ]
     },
     "execution_count": 12,
     "metadata": {},
     "output_type": "execute_result"
    }
   ],
   "source": [
    "df_products.shape"
   ]
  },
  {
   "cell_type": "code",
   "execution_count": 13,
   "id": "c737d7fe",
   "metadata": {},
   "outputs": [],
   "source": [
    "df_prods_check = pd.read_csv(os.path.join(path,'02 data','Pepared Data','products_checked.csv))'), index_col = False)\n",
    "\n"
   ]
  },
  {
   "cell_type": "code",
   "execution_count": 14,
   "id": "27563f05",
   "metadata": {},
   "outputs": [
    {
     "data": {
      "text/plain": [
       "(49672, 6)"
      ]
     },
     "execution_count": 14,
     "metadata": {},
     "output_type": "execute_result"
    }
   ],
   "source": [
    "df_prods_check.shape"
   ]
  },
  {
   "cell_type": "code",
   "execution_count": 15,
   "id": "481bea46",
   "metadata": {},
   "outputs": [],
   "source": [
    "df_customers = pd.read_csv(os.path.join(path,'02 data','Original Data','4.3_orders_products','customers.csv'), index_col = False)\n"
   ]
  },
  {
   "cell_type": "code",
   "execution_count": 16,
   "id": "b0778679",
   "metadata": {},
   "outputs": [
    {
     "data": {
      "text/plain": [
       "(206209, 10)"
      ]
     },
     "execution_count": 16,
     "metadata": {},
     "output_type": "execute_result"
    }
   ],
   "source": [
    "df_customers.shape"
   ]
  },
  {
   "cell_type": "code",
   "execution_count": 17,
   "id": "e8a12413",
   "metadata": {},
   "outputs": [],
   "source": [
    "df_Combined = pd.read_pickle(os.path.join(path,'02 Data','Pepared Data','orders_products_combined.pkl'))"
   ]
  },
  {
   "cell_type": "code",
   "execution_count": 18,
   "id": "24200290",
   "metadata": {},
   "outputs": [
    {
     "data": {
      "text/plain": [
       "(32434489, 12)"
      ]
     },
     "execution_count": 18,
     "metadata": {},
     "output_type": "execute_result"
    }
   ],
   "source": [
    "df_Combined.shape"
   ]
  },
  {
   "cell_type": "code",
   "execution_count": 19,
   "id": "0dd7d2f3",
   "metadata": {},
   "outputs": [],
   "source": [
    "df_merged = pd.read_pickle(os.path.join(path,'02 Data','Pepared Data','orders_products_merged.pkl'))\n",
    "\n"
   ]
  },
  {
   "cell_type": "code",
   "execution_count": 20,
   "id": "e285f5fb",
   "metadata": {},
   "outputs": [
    {
     "data": {
      "text/plain": [
       "(32404859, 17)"
      ]
     },
     "execution_count": 20,
     "metadata": {},
     "output_type": "execute_result"
    }
   ],
   "source": [
    "df_merged.shape"
   ]
  },
  {
   "cell_type": "code",
   "execution_count": null,
   "id": "f3f363e9",
   "metadata": {},
   "outputs": [],
   "source": []
  }
 ],
 "metadata": {
  "kernelspec": {
   "display_name": "Python 3 (ipykernel)",
   "language": "python",
   "name": "python3"
  },
  "language_info": {
   "codemirror_mode": {
    "name": "ipython",
    "version": 3
   },
   "file_extension": ".py",
   "mimetype": "text/x-python",
   "name": "python",
   "nbconvert_exporter": "python",
   "pygments_lexer": "ipython3",
   "version": "3.9.12"
  }
 },
 "nbformat": 4,
 "nbformat_minor": 5
}
